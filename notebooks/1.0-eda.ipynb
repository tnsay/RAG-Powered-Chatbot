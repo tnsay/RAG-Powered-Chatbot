{
 "cells": [
  {
   "cell_type": "code",
   "execution_count": 13,
   "id": "83e5d233",
   "metadata": {},
   "outputs": [],
   "source": [
    "import dask.dataframe as dd\n",
    "import pandas as pd\n",
    "import csv\n",
    "\n",
    "# Load data with error handling\n",
    "ddf = dd.read_csv(\n",
    "    '../data/complaints.csv',\n",
    "    dtype=str,\n",
    "    quoting=csv.QUOTE_NONE,\n",
    "    on_bad_lines='skip',\n",
    "    encoding='utf-8'\n",
    ")"
   ]
  },
  {
   "cell_type": "code",
   "execution_count": 14,
   "id": "fd65d756",
   "metadata": {},
   "outputs": [
    {
     "name": "stdout",
     "output_type": "stream",
     "text": [
      "  Date received                                            Product  \\\n",
      "0    2025-06-20  Credit reporting or other personal consumer re...   \n",
      "1    2025-06-20  Credit reporting or other personal consumer re...   \n",
      "2    2025-06-20  Credit reporting or other personal consumer re...   \n",
      "3    2025-06-20  Credit reporting or other personal consumer re...   \n",
      "4    2025-06-20  Credit reporting or other personal consumer re...   \n",
      "\n",
      "        Sub-product                                 Issue  \\\n",
      "0  Credit reporting  Incorrect information on your report   \n",
      "1  Credit reporting           Improper use of your report   \n",
      "2  Credit reporting  Incorrect information on your report   \n",
      "3  Credit reporting           Improper use of your report   \n",
      "4  Credit reporting           Improper use of your report   \n",
      "\n",
      "                                       Sub-issue Consumer complaint narrative  \\\n",
      "0            Information belongs to someone else                         <NA>   \n",
      "1  Reporting company used your report improperly                         <NA>   \n",
      "2                       Account status incorrect                         <NA>   \n",
      "3  Reporting company used your report improperly                         <NA>   \n",
      "4  Reporting company used your report improperly                         <NA>   \n",
      "\n",
      "  Company public response                              Company State ZIP code  \\\n",
      "0                    <NA>  Experian Information Solutions Inc.    FL    32092   \n",
      "1                    <NA>  Experian Information Solutions Inc.    AZ    85225   \n",
      "2                    <NA>  Experian Information Solutions Inc.    IL    60628   \n",
      "3                    <NA>  Experian Information Solutions Inc.    NV    89107   \n",
      "4                    <NA>  Experian Information Solutions Inc.    GA    30058   \n",
      "\n",
      "   Tags Consumer consent provided? Submitted via Date sent to company  \\\n",
      "0  <NA>                       <NA>           Web           2025-06-20   \n",
      "1  <NA>                       <NA>           Web           2025-06-20   \n",
      "2  <NA>                       <NA>           Web           2025-06-20   \n",
      "3  <NA>                       <NA>           Web           2025-06-20   \n",
      "4  <NA>                       <NA>           Web           2025-06-20   \n",
      "\n",
      "  Company response to consumer Timely response? Consumer disputed?  \\\n",
      "0                  In progress              Yes               <NA>   \n",
      "1                  In progress              Yes               <NA>   \n",
      "2                  In progress              Yes               <NA>   \n",
      "3                  In progress              Yes               <NA>   \n",
      "4                  In progress              Yes               <NA>   \n",
      "\n",
      "  Complaint ID  \n",
      "0     14195687  \n",
      "1     14195690  \n",
      "2     14195692  \n",
      "3     14195715  \n",
      "4     14195718  \n",
      "Number of rows: 10504889\n",
      "Number of columns: 18\n"
     ]
    }
   ],
   "source": [
    "print(ddf.head())  # Sample\n",
    "ddf.columns  # Check available columns\n",
    "print(\"Number of rows:\", ddf.shape[0].compute())\n",
    "print(\"Number of columns:\", ddf.shape[1])  "
   ]
  },
  {
   "cell_type": "code",
   "execution_count": 15,
   "id": "54241b50",
   "metadata": {},
   "outputs": [
    {
     "name": "stdout",
     "output_type": "stream",
     "text": [
      "['Date received', 'Product', 'Sub-product', 'Issue', 'Sub-issue', 'Consumer complaint narrative', 'Company public response', 'Company', 'State', 'ZIP code', 'Tags', 'Consumer consent provided?', 'Submitted via', 'Date sent to company', 'Company response to consumer', 'Timely response?', 'Consumer disputed?', 'Complaint ID']\n"
     ]
    }
   ],
   "source": [
    "print(ddf.columns.tolist())"
   ]
  },
  {
   "cell_type": "code",
   "execution_count": 21,
   "id": "6b3d52d2",
   "metadata": {},
   "outputs": [
    {
     "name": "stdout",
     "output_type": "stream",
     "text": [
      "Complaint counts per product category:\n",
      " Standardized Product\n",
      "Savings Account               80935\n",
      "Credit Card                  108726\n",
      "Buy Now, Pay Later (BNPL)         9\n",
      "Money Transfers               30996\n",
      "Personal Loan                  3102\n",
      "Name: count, dtype: int64\n",
      "\n",
      "Narrative length statistics:\n",
      " count    223768.000000\n",
      "mean         28.373355\n",
      "std          49.346518\n",
      "min           1.000000\n",
      "25%           8.000000\n",
      "50%          17.000000\n",
      "75%          52.000000\n",
      "max        2411.000000\n",
      "Name: Narrative Length, dtype: float64\n",
      "\n",
      "Complaints with non-empty narrative: 4192454\n",
      "Complaints without narrative or only whitespace: 6312435\n"
     ]
    }
   ],
   "source": [
    "# Define a function to map messy product labels into 5 target categories\n",
    "def standardize_product(product):\n",
    "    if pd.isnull(product):\n",
    "        return None\n",
    "    product = product.lower()\n",
    "    if \"credit card\" in product:\n",
    "        return \"Credit Card\"\n",
    "    elif \"personal loan\" in product or \"consumer loan\" in product:\n",
    "        return \"Personal Loan\"\n",
    "    elif \"buy now\" in product or \"bnpl\" in product:\n",
    "        return \"Buy Now, Pay Later (BNPL)\"\n",
    "    elif \"savings\" in product or \"checking\" in product or \"bank account\" in product:\n",
    "        return \"Savings Account\"\n",
    "    elif \"money transfer\" in product:\n",
    "        return \"Money Transfers\"\n",
    "    else:\n",
    "        return None\n",
    "\n",
    "# Apply the mapping\n",
    "ddf['Standardized Product'] = ddf['Product'].map(standardize_product, meta=('Standardized Product', 'str'))\n",
    "\n",
    "# Step 3: Filter for only valid product categories and non-empty narratives\n",
    "# This handles both null and empty/whitespace complaints\n",
    "filtered_ddf = ddf[\n",
    "    ddf['Standardized Product'].notnull() &\n",
    "    ddf['Consumer complaint narrative'].map(lambda x: bool(str(x).strip()) if pd.notnull(x) else False, meta=('Consumer complaint narrative', 'bool'))\n",
    "]\n",
    "\n",
    "# Step 4: Add narrative length column\n",
    "filtered_ddf['Narrative Length'] = filtered_ddf['Consumer complaint narrative'].map(\n",
    "    lambda x: len(str(x).split()),\n",
    "    meta=('Narrative Length', 'int')\n",
    ")\n",
    "\n",
    "# Step 5: Count complaints per product\n",
    "product_counts = filtered_ddf['Standardized Product'].value_counts().compute()\n",
    "print(\"Complaint counts per product category:\\n\", product_counts)\n",
    "\n",
    "# Step 6: Summary stats for narrative length\n",
    "narrative_stats = filtered_ddf['Narrative Length'].describe().compute()\n",
    "print(\"\\nNarrative length statistics:\\n\", narrative_stats)\n",
    "\n",
    "# Step 7: Count of complaints with/without narratives\n",
    "with_narrative = ddf['Consumer complaint narrative'].map(lambda x: bool(str(x).strip()) if pd.notnull(x) else False, meta=('x', 'bool')).sum().compute()\n",
    "total = len(ddf)\n",
    "print(f\"\\nComplaints with non-empty narrative: {with_narrative}\")\n",
    "print(f\"Complaints without narrative or only whitespace: {total - with_narrative}\")"
   ]
  },
  {
   "cell_type": "code",
   "execution_count": 19,
   "id": "e677ca57",
   "metadata": {},
   "outputs": [
    {
     "name": "stdout",
     "output_type": "stream",
     "text": [
      "['Date received', 'Product', 'Sub-product', 'Issue', 'Sub-issue', 'Consumer complaint narrative', 'Company public response', 'Company', 'State', 'ZIP code', 'Tags', 'Consumer consent provided?', 'Submitted via', 'Date sent to company', 'Company response to consumer', 'Timely response?', 'Consumer disputed?', 'Complaint ID', 'Standardized Product', 'Narrative Length']\n"
     ]
    }
   ],
   "source": [
    "print(ddf.columns.tolist())"
   ]
  },
  {
   "cell_type": "code",
   "execution_count": 25,
   "id": "8b17bc9b",
   "metadata": {},
   "outputs": [
    {
     "name": "stdout",
     "output_type": "stream",
     "text": [
      "Number of rows: 223768\n",
      "Number of columns: 21\n"
     ]
    }
   ],
   "source": [
    "import re\n",
    "\n",
    "# Define text cleaning function\n",
    "def clean_text(text):\n",
    "    if pd.isnull(text):\n",
    "        return \"\"\n",
    "    \n",
    "    # Lowercase\n",
    "    text = text.lower()\n",
    "    \n",
    "    # Remove boilerplate phrases (customizable)\n",
    "    boilerplate_phrases = [\n",
    "        r\"i am writing to (file|submit) a complaint\",\n",
    "        r\"i would like to complain about\",\n",
    "        r\"this complaint is regarding\",\n",
    "        r\"dear.*?consumer financial protection bureau\",  \n",
    "    ]\n",
    "    for phrase in boilerplate_phrases:\n",
    "        text = re.sub(phrase, \"\", text)\n",
    "    \n",
    "    # Remove special characters (except basic punctuation)\n",
    "    text = re.sub(r\"[^a-zA-Z0-9\\s.,!?]\", \" \", text)\n",
    "    \n",
    "    # Remove extra spaces\n",
    "    text = re.sub(r\"\\s+\", \" \", text).strip()\n",
    "    \n",
    "    return text\n",
    "\n",
    "# Add cleaned version of narratives\n",
    "filtered_ddf['Cleaned Narrative'] = filtered_ddf['Consumer complaint narrative'].map(\n",
    "    clean_text, meta=('Cleaned Narrative', 'str')\n",
    ")\n",
    "\n",
    "print(\"Number of rows:\", filtered_ddf.shape[0].compute())\n",
    "print(\"Number of columns:\", filtered_ddf.shape[1])  \n",
    "\n",
    "\n",
    "# Save filtered and cleaned dataset (best format)\n",
    "filtered_ddf.to_parquet(\"../data/filtered_complaints.parquet\", engine=\"pyarrow\", write_index=False)\n",
    "\n"
   ]
  },
  {
   "cell_type": "code",
   "execution_count": 27,
   "id": "ba6a5617",
   "metadata": {},
   "outputs": [],
   "source": [
    "# Convert to Pandas\n",
    "filtered_df = filtered_ddf.compute()\n",
    "\n",
    "# Save to CSV\n",
    "filtered_df.to_csv(\"../data/filtered_complaints.csv\", index=False)\n"
   ]
  }
 ],
 "metadata": {
  "kernelspec": {
   "display_name": "venv",
   "language": "python",
   "name": "python3"
  },
  "language_info": {
   "codemirror_mode": {
    "name": "ipython",
    "version": 3
   },
   "file_extension": ".py",
   "mimetype": "text/x-python",
   "name": "python",
   "nbconvert_exporter": "python",
   "pygments_lexer": "ipython3",
   "version": "3.13.5"
  }
 },
 "nbformat": 4,
 "nbformat_minor": 5
}
