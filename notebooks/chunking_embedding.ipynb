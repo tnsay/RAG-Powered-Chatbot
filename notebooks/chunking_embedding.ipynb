{
 "cells": [
  {
   "cell_type": "code",
   "execution_count": 1,
   "id": "d58ab984",
   "metadata": {},
   "outputs": [
    {
     "name": "stdout",
     "output_type": "stream",
     "text": [
      "['Date received', 'Product', 'Sub-product', 'Issue', 'Sub-issue', 'Consumer complaint narrative', 'Company public response', 'Company', 'State', 'ZIP code', 'Tags', 'Consumer consent provided?', 'Submitted via', 'Date sent to company', 'Company response to consumer', 'Timely response?', 'Consumer disputed?', 'Complaint ID', 'Standardized Product', 'Narrative Length', 'Cleaned Narrative']\n"
     ]
    }
   ],
   "source": [
    "import pandas as pd\n",
    "\n",
    "# Load from cleaned output of Task 1\n",
    "df = pd.read_csv(\"../data/filtered_complaints.csv\")\n",
    "print(df.columns.tolist())"
   ]
  },
  {
   "cell_type": "code",
   "execution_count": 2,
   "id": "67eeeb25",
   "metadata": {},
   "outputs": [],
   "source": [
    "# Select relevant columns\n",
    "df = df[['Complaint ID', 'Consumer complaint narrative', 'Standardized Product']].dropna()\n",
    "df = df[df['Consumer complaint narrative'].str.strip() != '']"
   ]
  },
  {
   "cell_type": "code",
   "execution_count": 3,
   "id": "bbd65643",
   "metadata": {},
   "outputs": [
    {
     "name": "stdout",
     "output_type": "stream",
     "text": [
      "\n",
      "--- Chunk 1 ---\n",
      "Text: On XX/XX/XXXX I presented a check for mobile deposit for {$2300.00}. Wells Fargo made {$400.00} available immediately and said that the rest would be available XX/XX/XXXX. I received an email stating the check was held until XX/XX/XXXX and they reversed the available funds. So nothing from the check was available. They state the payee signature does not match. At XXXX XXXX I called Wells Fargo and spoke to a banker and a supervisor and they gave conflicting information. They said that my mothers\n",
      "Metadata: {'complaint_id': '13999055', 'product': 'Savings Account', 'original_text': 'On XX/XX/XXXX I presented a check for mobile deposit for {$2300.00}. Wells Fargo made {$400.00} available immediately and said that the rest would be available XX/XX/XXXX. I received an email stating the check was held until XX/XX/XXXX and they reversed the available funds. So nothing from the check...'}\n",
      "\n",
      "--- Chunk 2 ---\n",
      "Text: spoke to a banker and a supervisor and they gave conflicting information. They said that my mothers signature didnt match. They said the issuing bank did not verify the funds availability. There is XXXX in the account. They refused to make the funds available or provide a solution. I asked to stop processing of the check and they refused.\n",
      "Metadata: {'complaint_id': '13999055', 'product': 'Savings Account', 'original_text': 'On XX/XX/XXXX I presented a check for mobile deposit for {$2300.00}. Wells Fargo made {$400.00} available immediately and said that the rest would be available XX/XX/XXXX. I received an email stating the check was held until XX/XX/XXXX and they reversed the available funds. So nothing from the check...'}\n",
      "\n",
      "--- Chunk 3 ---\n",
      "Text: I received money via XXXX on XX/XX/XXXX on XX/XX/XXXX my account was locked and can't access my money the only money I have I called in on XX/XX/XXXX they said they don't know why my account was locked to call back 24-48hrs I called again today XX/XX/XXXX was told my account is under investigation the person on the line still don't know what's going on said to wait 7 business days I can't wait that long I have bills due how can they legally just hold someone's money and not even give a reason\n",
      "Metadata: {'complaint_id': '13672218', 'product': 'Savings Account', 'original_text': \"I received money via XXXX on XX/XX/XXXX on XX/XX/XXXX my account was locked and can't access my money the only money I have I called in on XX/XX/XXXX they said they don't know why my account was locked to call back 24-48hrs I called again today XX/XX/XXXX was told my account is under investigation t...\"}\n"
     ]
    }
   ],
   "source": [
    "from langchain.text_splitter import RecursiveCharacterTextSplitter\n",
    "\n",
    "# Initialize the text splitter\n",
    "text_splitter = RecursiveCharacterTextSplitter(\n",
    "    chunk_size=500,     # experiment with 300, 500, 800\n",
    "    chunk_overlap=100,  # to preserve context between chunks\n",
    "    length_function=len\n",
    ")\n",
    "\n",
    "# Store chunks and metadata\n",
    "chunks = []\n",
    "metadatas = []\n",
    "\n",
    "for i, row in df.iterrows():\n",
    "    split_texts = text_splitter.split_text(row['Consumer complaint narrative'])\n",
    "    \n",
    "    for chunk_text in split_texts:\n",
    "        chunks.append(chunk_text)\n",
    "        metadatas.append({\n",
    "            \"complaint_id\": row['Complaint ID'],\n",
    "            \"product\": row['Standardized Product'],\n",
    "            \"original_text\": row['Consumer complaint narrative'][:300] + \"...\",  # optional preview\n",
    "        })\n",
    "# Print the first 3 chunks and their metadata\n",
    "for i in range(min(3, len(chunks))):\n",
    "    print(f\"\\n--- Chunk {i+1} ---\")\n",
    "    print(\"Text:\", chunks[i])\n",
    "    print(\"Metadata:\", metadatas[i])\n"
   ]
  },
  {
   "cell_type": "code",
   "execution_count": 4,
   "id": "6969cd50",
   "metadata": {},
   "outputs": [
    {
     "name": "stderr",
     "output_type": "stream",
     "text": [
      "c:\\PY\\RAG-Powered-Chatbot\\venv\\Lib\\site-packages\\tqdm\\auto.py:21: TqdmWarning: IProgress not found. Please update jupyter and ipywidgets. See https://ipywidgets.readthedocs.io/en/stable/user_install.html\n",
      "  from .autonotebook import tqdm as notebook_tqdm\n"
     ]
    }
   ],
   "source": [
    "from langchain_huggingface import HuggingFaceEmbeddings\n",
    "\n",
    "# Load embedding model\n",
    "embedding_model = HuggingFaceEmbeddings(\n",
    "    model_name=\"sentence-transformers/all-MiniLM-L6-v2\"\n",
    ")"
   ]
  },
  {
   "cell_type": "code",
   "execution_count": 5,
   "id": "494e3752",
   "metadata": {},
   "outputs": [
    {
     "name": "stdout",
     "output_type": "stream",
     "text": [
      " ChromaDB vector store created with 78783 chunks.\n"
     ]
    },
    {
     "name": "stderr",
     "output_type": "stream",
     "text": [
      "C:\\Users\\Tinsae D.D\\AppData\\Local\\Temp\\ipykernel_3260\\2393879617.py:15: LangChainDeprecationWarning: Since Chroma 0.4.x the manual persistence method is no longer supported as docs are automatically persisted.\n",
      "  vectorstore.persist()\n"
     ]
    }
   ],
   "source": [
    "from langchain.vectorstores import Chroma\n",
    "\n",
    "# Create vector store directory\n",
    "persist_directory = \"../vector_store\"\n",
    "\n",
    "# Build Chroma vector store\n",
    "vectorstore = Chroma.from_texts(\n",
    "    texts=chunks,\n",
    "    embedding=embedding_model,\n",
    "    metadatas=metadatas,\n",
    "    persist_directory=persist_directory\n",
    ")\n",
    "\n",
    "# Persist to disk\n",
    "vectorstore.persist()\n",
    "\n",
    "print(\" ChromaDB vector store created with\", len(chunks), \"chunks.\",)\n"
   ]
  },
  {
   "cell_type": "code",
   "execution_count": 6,
   "id": "7d739958",
   "metadata": {},
   "outputs": [
    {
     "name": "stderr",
     "output_type": "stream",
     "text": [
      "C:\\Users\\Tinsae D.D\\AppData\\Local\\Temp\\ipykernel_3260\\1076925105.py:2: LangChainDeprecationWarning: The class `Chroma` was deprecated in LangChain 0.2.9 and will be removed in 1.0. An updated version of the class exists in the :class:`~langchain-chroma package and should be used instead. To use it run `pip install -U :class:`~langchain-chroma` and import as `from :class:`~langchain_chroma import Chroma``.\n",
      "  vectorstore = Chroma(\n"
     ]
    },
    {
     "name": "stdout",
     "output_type": "stream",
     "text": [
      "Product: Savings Account\n",
      "Chunk: I keep getting charged for something I did not authorize.\n",
      "---\n",
      "Product: Savings Account\n",
      "Chunk: I keep getting charged for something I did not authorize.\n",
      "---\n",
      "Product: Credit Card\n",
      "Chunk: There is a charge from XX/XX/XXXX on my credit card that I did not authorized or have any knowledge of!\n",
      "---\n"
     ]
    }
   ],
   "source": [
    "# Reload the vector store later\n",
    "vectorstore = Chroma(\n",
    "    embedding_function=embedding_model,\n",
    "    persist_directory=persist_directory\n",
    ")\n",
    "\n",
    "query = \"I am being charged on my credit card for something I didn’t authorize\"\n",
    "results = vectorstore.similarity_search(query, k=3)\n",
    "\n",
    "for res in results:\n",
    "    print(\"Product:\", res.metadata['product'])\n",
    "    print(\"Chunk:\", res.page_content[:300])\n",
    "    print(\"---\")\n"
   ]
  }
 ],
 "metadata": {
  "kernelspec": {
   "display_name": "venv",
   "language": "python",
   "name": "python3"
  },
  "language_info": {
   "codemirror_mode": {
    "name": "ipython",
    "version": 3
   },
   "file_extension": ".py",
   "mimetype": "text/x-python",
   "name": "python",
   "nbconvert_exporter": "python",
   "pygments_lexer": "ipython3",
   "version": "3.13.5"
  }
 },
 "nbformat": 4,
 "nbformat_minor": 5
}
